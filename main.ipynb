{
 "cells": [
  {
   "cell_type": "markdown",
   "id": "95b61052-8403-4aa7-b11e-e7b1703cdeca",
   "metadata": {},
   "source": [
    "# Crop Recommendation System using Logistic Regression"
   ]
  },
  {
   "cell_type": "code",
   "execution_count": 1,
   "id": "07072d59-06e5-4970-9f4f-66224f4177e7",
   "metadata": {},
   "outputs": [],
   "source": [
    "# Importing libraries\n",
    "import pandas as pd\n",
    "import numpy as np\n",
    "import matplotlib.pyplot as plt\n",
    "import seaborn as sns\n",
    "from sklearn.metrics import classification_report\n",
    "from sklearn import metrics\n",
    "import warnings\n",
    "warnings.filterwarnings('ignore')"
   ]
  },
  {
   "cell_type": "code",
   "execution_count": 2,
   "id": "c2c857ce-b7a7-464c-890e-563dac6c0d95",
   "metadata": {},
   "outputs": [],
   "source": [
    "df = pd.read_csv('Crop_recommendation.csv')"
   ]
  },
  {
   "cell_type": "code",
   "execution_count": 3,
   "id": "1a8c385c-0a87-4cdf-b37a-ebb19c506fff",
   "metadata": {},
   "outputs": [
    {
     "data": {
      "text/html": [
       "<div>\n",
       "<style scoped>\n",
       "    .dataframe tbody tr th:only-of-type {\n",
       "        vertical-align: middle;\n",
       "    }\n",
       "\n",
       "    .dataframe tbody tr th {\n",
       "        vertical-align: top;\n",
       "    }\n",
       "\n",
       "    .dataframe thead th {\n",
       "        text-align: right;\n",
       "    }\n",
       "</style>\n",
       "<table border=\"1\" class=\"dataframe\">\n",
       "  <thead>\n",
       "    <tr style=\"text-align: right;\">\n",
       "      <th></th>\n",
       "      <th>N</th>\n",
       "      <th>P</th>\n",
       "      <th>K</th>\n",
       "      <th>temperature</th>\n",
       "      <th>humidity</th>\n",
       "      <th>ph</th>\n",
       "      <th>rainfall</th>\n",
       "      <th>label</th>\n",
       "    </tr>\n",
       "  </thead>\n",
       "  <tbody>\n",
       "    <tr>\n",
       "      <th>0</th>\n",
       "      <td>90</td>\n",
       "      <td>42</td>\n",
       "      <td>43</td>\n",
       "      <td>20.879744</td>\n",
       "      <td>82.002744</td>\n",
       "      <td>6.502985</td>\n",
       "      <td>202.935536</td>\n",
       "      <td>rice</td>\n",
       "    </tr>\n",
       "    <tr>\n",
       "      <th>1</th>\n",
       "      <td>85</td>\n",
       "      <td>58</td>\n",
       "      <td>41</td>\n",
       "      <td>21.770462</td>\n",
       "      <td>80.319644</td>\n",
       "      <td>7.038096</td>\n",
       "      <td>226.655537</td>\n",
       "      <td>rice</td>\n",
       "    </tr>\n",
       "    <tr>\n",
       "      <th>2</th>\n",
       "      <td>60</td>\n",
       "      <td>55</td>\n",
       "      <td>44</td>\n",
       "      <td>23.004459</td>\n",
       "      <td>82.320763</td>\n",
       "      <td>7.840207</td>\n",
       "      <td>263.964248</td>\n",
       "      <td>rice</td>\n",
       "    </tr>\n",
       "    <tr>\n",
       "      <th>3</th>\n",
       "      <td>74</td>\n",
       "      <td>35</td>\n",
       "      <td>40</td>\n",
       "      <td>26.491096</td>\n",
       "      <td>80.158363</td>\n",
       "      <td>6.980401</td>\n",
       "      <td>242.864034</td>\n",
       "      <td>rice</td>\n",
       "    </tr>\n",
       "    <tr>\n",
       "      <th>4</th>\n",
       "      <td>78</td>\n",
       "      <td>42</td>\n",
       "      <td>42</td>\n",
       "      <td>20.130175</td>\n",
       "      <td>81.604873</td>\n",
       "      <td>7.628473</td>\n",
       "      <td>262.717340</td>\n",
       "      <td>rice</td>\n",
       "    </tr>\n",
       "  </tbody>\n",
       "</table>\n",
       "</div>"
      ],
      "text/plain": [
       "    N   P   K  temperature   humidity        ph    rainfall label\n",
       "0  90  42  43    20.879744  82.002744  6.502985  202.935536  rice\n",
       "1  85  58  41    21.770462  80.319644  7.038096  226.655537  rice\n",
       "2  60  55  44    23.004459  82.320763  7.840207  263.964248  rice\n",
       "3  74  35  40    26.491096  80.158363  6.980401  242.864034  rice\n",
       "4  78  42  42    20.130175  81.604873  7.628473  262.717340  rice"
      ]
     },
     "execution_count": 3,
     "metadata": {},
     "output_type": "execute_result"
    }
   ],
   "source": [
    "df.head()"
   ]
  },
  {
   "cell_type": "code",
   "execution_count": 4,
   "id": "74f214d6-36d7-4aa1-acac-def497dc83dd",
   "metadata": {},
   "outputs": [
    {
     "data": {
      "text/html": [
       "<div>\n",
       "<style scoped>\n",
       "    .dataframe tbody tr th:only-of-type {\n",
       "        vertical-align: middle;\n",
       "    }\n",
       "\n",
       "    .dataframe tbody tr th {\n",
       "        vertical-align: top;\n",
       "    }\n",
       "\n",
       "    .dataframe thead th {\n",
       "        text-align: right;\n",
       "    }\n",
       "</style>\n",
       "<table border=\"1\" class=\"dataframe\">\n",
       "  <thead>\n",
       "    <tr style=\"text-align: right;\">\n",
       "      <th></th>\n",
       "      <th>N</th>\n",
       "      <th>P</th>\n",
       "      <th>K</th>\n",
       "      <th>temperature</th>\n",
       "      <th>humidity</th>\n",
       "      <th>ph</th>\n",
       "      <th>rainfall</th>\n",
       "      <th>label</th>\n",
       "    </tr>\n",
       "  </thead>\n",
       "  <tbody>\n",
       "    <tr>\n",
       "      <th>2195</th>\n",
       "      <td>107</td>\n",
       "      <td>34</td>\n",
       "      <td>32</td>\n",
       "      <td>26.774637</td>\n",
       "      <td>66.413269</td>\n",
       "      <td>6.780064</td>\n",
       "      <td>177.774507</td>\n",
       "      <td>coffee</td>\n",
       "    </tr>\n",
       "    <tr>\n",
       "      <th>2196</th>\n",
       "      <td>99</td>\n",
       "      <td>15</td>\n",
       "      <td>27</td>\n",
       "      <td>27.417112</td>\n",
       "      <td>56.636362</td>\n",
       "      <td>6.086922</td>\n",
       "      <td>127.924610</td>\n",
       "      <td>coffee</td>\n",
       "    </tr>\n",
       "    <tr>\n",
       "      <th>2197</th>\n",
       "      <td>118</td>\n",
       "      <td>33</td>\n",
       "      <td>30</td>\n",
       "      <td>24.131797</td>\n",
       "      <td>67.225123</td>\n",
       "      <td>6.362608</td>\n",
       "      <td>173.322839</td>\n",
       "      <td>coffee</td>\n",
       "    </tr>\n",
       "    <tr>\n",
       "      <th>2198</th>\n",
       "      <td>117</td>\n",
       "      <td>32</td>\n",
       "      <td>34</td>\n",
       "      <td>26.272418</td>\n",
       "      <td>52.127394</td>\n",
       "      <td>6.758793</td>\n",
       "      <td>127.175293</td>\n",
       "      <td>coffee</td>\n",
       "    </tr>\n",
       "    <tr>\n",
       "      <th>2199</th>\n",
       "      <td>104</td>\n",
       "      <td>18</td>\n",
       "      <td>30</td>\n",
       "      <td>23.603016</td>\n",
       "      <td>60.396475</td>\n",
       "      <td>6.779833</td>\n",
       "      <td>140.937041</td>\n",
       "      <td>coffee</td>\n",
       "    </tr>\n",
       "  </tbody>\n",
       "</table>\n",
       "</div>"
      ],
      "text/plain": [
       "        N   P   K  temperature   humidity        ph    rainfall   label\n",
       "2195  107  34  32    26.774637  66.413269  6.780064  177.774507  coffee\n",
       "2196   99  15  27    27.417112  56.636362  6.086922  127.924610  coffee\n",
       "2197  118  33  30    24.131797  67.225123  6.362608  173.322839  coffee\n",
       "2198  117  32  34    26.272418  52.127394  6.758793  127.175293  coffee\n",
       "2199  104  18  30    23.603016  60.396475  6.779833  140.937041  coffee"
      ]
     },
     "execution_count": 4,
     "metadata": {},
     "output_type": "execute_result"
    }
   ],
   "source": [
    "df.tail()"
   ]
  },
  {
   "cell_type": "code",
   "execution_count": 5,
   "id": "7acafc2a-7a4d-4570-b8c9-0bacf33fa009",
   "metadata": {},
   "outputs": [
    {
     "data": {
      "text/plain": [
       "17600"
      ]
     },
     "execution_count": 5,
     "metadata": {},
     "output_type": "execute_result"
    }
   ],
   "source": [
    "df.size"
   ]
  },
  {
   "cell_type": "code",
   "execution_count": 6,
   "id": "e27c643c-8091-4363-b397-89ce8a6eeb9b",
   "metadata": {},
   "outputs": [
    {
     "data": {
      "text/plain": [
       "(2200, 8)"
      ]
     },
     "execution_count": 6,
     "metadata": {},
     "output_type": "execute_result"
    }
   ],
   "source": [
    "df.shape"
   ]
  },
  {
   "cell_type": "code",
   "execution_count": 7,
   "id": "c872b275-e90a-48a7-99c0-aececb66550a",
   "metadata": {},
   "outputs": [
    {
     "name": "stdout",
     "output_type": "stream",
     "text": [
      "<class 'pandas.core.frame.DataFrame'>\n",
      "RangeIndex: 2200 entries, 0 to 2199\n",
      "Data columns (total 8 columns):\n",
      " #   Column       Non-Null Count  Dtype  \n",
      "---  ------       --------------  -----  \n",
      " 0   N            2200 non-null   int64  \n",
      " 1   P            2200 non-null   int64  \n",
      " 2   K            2200 non-null   int64  \n",
      " 3   temperature  2200 non-null   float64\n",
      " 4   humidity     2200 non-null   float64\n",
      " 5   ph           2200 non-null   float64\n",
      " 6   rainfall     2200 non-null   float64\n",
      " 7   label        2200 non-null   object \n",
      "dtypes: float64(4), int64(3), object(1)\n",
      "memory usage: 137.6+ KB\n"
     ]
    }
   ],
   "source": [
    "df.info()"
   ]
  },
  {
   "cell_type": "code",
   "execution_count": 8,
   "id": "5ca3c55c-0820-43d6-ba57-892ade6d5d3a",
   "metadata": {},
   "outputs": [
    {
     "data": {
      "text/plain": [
       "Index(['N', 'P', 'K', 'temperature', 'humidity', 'ph', 'rainfall', 'label'], dtype='object')"
      ]
     },
     "execution_count": 8,
     "metadata": {},
     "output_type": "execute_result"
    }
   ],
   "source": [
    "df.columns"
   ]
  },
  {
   "cell_type": "code",
   "execution_count": 9,
   "id": "e7c76366-df56-4f0e-9de6-ea9a7d329f1e",
   "metadata": {},
   "outputs": [
    {
     "data": {
      "text/plain": [
       "array(['rice', 'maize', 'chickpea', 'kidneybeans', 'pigeonpeas',\n",
       "       'mothbeans', 'mungbean', 'blackgram', 'lentil', 'pomegranate',\n",
       "       'banana', 'mango', 'grapes', 'watermelon', 'muskmelon', 'apple',\n",
       "       'orange', 'papaya', 'coconut', 'cotton', 'jute', 'coffee'],\n",
       "      dtype=object)"
      ]
     },
     "execution_count": 9,
     "metadata": {},
     "output_type": "execute_result"
    }
   ],
   "source": [
    "df['label'].unique()"
   ]
  },
  {
   "cell_type": "code",
   "execution_count": 10,
   "id": "3cec5669-e10f-4ba0-989a-14f4efb9fdde",
   "metadata": {},
   "outputs": [
    {
     "data": {
      "text/plain": [
       "N                int64\n",
       "P                int64\n",
       "K                int64\n",
       "temperature    float64\n",
       "humidity       float64\n",
       "ph             float64\n",
       "rainfall       float64\n",
       "label           object\n",
       "dtype: object"
      ]
     },
     "execution_count": 10,
     "metadata": {},
     "output_type": "execute_result"
    }
   ],
   "source": [
    "df.dtypes"
   ]
  },
  {
   "cell_type": "code",
   "execution_count": 11,
   "id": "62f8350a-402a-4363-a096-b71986c7e5e4",
   "metadata": {},
   "outputs": [
    {
     "data": {
      "text/plain": [
       "label\n",
       "rice           100\n",
       "maize          100\n",
       "jute           100\n",
       "cotton         100\n",
       "coconut        100\n",
       "papaya         100\n",
       "orange         100\n",
       "apple          100\n",
       "muskmelon      100\n",
       "watermelon     100\n",
       "grapes         100\n",
       "mango          100\n",
       "banana         100\n",
       "pomegranate    100\n",
       "lentil         100\n",
       "blackgram      100\n",
       "mungbean       100\n",
       "mothbeans      100\n",
       "pigeonpeas     100\n",
       "kidneybeans    100\n",
       "chickpea       100\n",
       "coffee         100\n",
       "Name: count, dtype: int64"
      ]
     },
     "execution_count": 11,
     "metadata": {},
     "output_type": "execute_result"
    }
   ],
   "source": [
    "df['label'].value_counts()"
   ]
  },
  {
   "cell_type": "code",
   "execution_count": 12,
   "id": "ca9db588-7506-45a5-bfc9-114cd6605ab8",
   "metadata": {},
   "outputs": [
    {
     "data": {
      "text/plain": [
       "N              0\n",
       "P              0\n",
       "K              0\n",
       "temperature    0\n",
       "humidity       0\n",
       "ph             0\n",
       "rainfall       0\n",
       "label          0\n",
       "dtype: int64"
      ]
     },
     "execution_count": 12,
     "metadata": {},
     "output_type": "execute_result"
    }
   ],
   "source": [
    "df.isnull().sum()"
   ]
  },
  {
   "cell_type": "code",
   "execution_count": 13,
   "id": "84430134-6045-4374-b0f5-8550f12111fc",
   "metadata": {},
   "outputs": [
    {
     "data": {
      "text/html": [
       "<div>\n",
       "<style scoped>\n",
       "    .dataframe tbody tr th:only-of-type {\n",
       "        vertical-align: middle;\n",
       "    }\n",
       "\n",
       "    .dataframe tbody tr th {\n",
       "        vertical-align: top;\n",
       "    }\n",
       "\n",
       "    .dataframe thead th {\n",
       "        text-align: right;\n",
       "    }\n",
       "</style>\n",
       "<table border=\"1\" class=\"dataframe\">\n",
       "  <thead>\n",
       "    <tr style=\"text-align: right;\">\n",
       "      <th></th>\n",
       "      <th>N</th>\n",
       "      <th>P</th>\n",
       "      <th>K</th>\n",
       "      <th>temperature</th>\n",
       "      <th>humidity</th>\n",
       "      <th>ph</th>\n",
       "      <th>rainfall</th>\n",
       "    </tr>\n",
       "  </thead>\n",
       "  <tbody>\n",
       "    <tr>\n",
       "      <th>count</th>\n",
       "      <td>2200.000000</td>\n",
       "      <td>2200.000000</td>\n",
       "      <td>2200.000000</td>\n",
       "      <td>2200.000000</td>\n",
       "      <td>2200.000000</td>\n",
       "      <td>2200.000000</td>\n",
       "      <td>2200.000000</td>\n",
       "    </tr>\n",
       "    <tr>\n",
       "      <th>mean</th>\n",
       "      <td>50.551818</td>\n",
       "      <td>53.362727</td>\n",
       "      <td>48.149091</td>\n",
       "      <td>25.616244</td>\n",
       "      <td>71.481779</td>\n",
       "      <td>6.469480</td>\n",
       "      <td>103.463655</td>\n",
       "    </tr>\n",
       "    <tr>\n",
       "      <th>std</th>\n",
       "      <td>36.917334</td>\n",
       "      <td>32.985883</td>\n",
       "      <td>50.647931</td>\n",
       "      <td>5.063749</td>\n",
       "      <td>22.263812</td>\n",
       "      <td>0.773938</td>\n",
       "      <td>54.958389</td>\n",
       "    </tr>\n",
       "    <tr>\n",
       "      <th>min</th>\n",
       "      <td>0.000000</td>\n",
       "      <td>5.000000</td>\n",
       "      <td>5.000000</td>\n",
       "      <td>8.825675</td>\n",
       "      <td>14.258040</td>\n",
       "      <td>3.504752</td>\n",
       "      <td>20.211267</td>\n",
       "    </tr>\n",
       "    <tr>\n",
       "      <th>25%</th>\n",
       "      <td>21.000000</td>\n",
       "      <td>28.000000</td>\n",
       "      <td>20.000000</td>\n",
       "      <td>22.769375</td>\n",
       "      <td>60.261953</td>\n",
       "      <td>5.971693</td>\n",
       "      <td>64.551686</td>\n",
       "    </tr>\n",
       "    <tr>\n",
       "      <th>50%</th>\n",
       "      <td>37.000000</td>\n",
       "      <td>51.000000</td>\n",
       "      <td>32.000000</td>\n",
       "      <td>25.598693</td>\n",
       "      <td>80.473146</td>\n",
       "      <td>6.425045</td>\n",
       "      <td>94.867624</td>\n",
       "    </tr>\n",
       "    <tr>\n",
       "      <th>75%</th>\n",
       "      <td>84.250000</td>\n",
       "      <td>68.000000</td>\n",
       "      <td>49.000000</td>\n",
       "      <td>28.561654</td>\n",
       "      <td>89.948771</td>\n",
       "      <td>6.923643</td>\n",
       "      <td>124.267508</td>\n",
       "    </tr>\n",
       "    <tr>\n",
       "      <th>max</th>\n",
       "      <td>140.000000</td>\n",
       "      <td>145.000000</td>\n",
       "      <td>205.000000</td>\n",
       "      <td>43.675493</td>\n",
       "      <td>99.981876</td>\n",
       "      <td>9.935091</td>\n",
       "      <td>298.560117</td>\n",
       "    </tr>\n",
       "  </tbody>\n",
       "</table>\n",
       "</div>"
      ],
      "text/plain": [
       "                 N            P            K  temperature     humidity  \\\n",
       "count  2200.000000  2200.000000  2200.000000  2200.000000  2200.000000   \n",
       "mean     50.551818    53.362727    48.149091    25.616244    71.481779   \n",
       "std      36.917334    32.985883    50.647931     5.063749    22.263812   \n",
       "min       0.000000     5.000000     5.000000     8.825675    14.258040   \n",
       "25%      21.000000    28.000000    20.000000    22.769375    60.261953   \n",
       "50%      37.000000    51.000000    32.000000    25.598693    80.473146   \n",
       "75%      84.250000    68.000000    49.000000    28.561654    89.948771   \n",
       "max     140.000000   145.000000   205.000000    43.675493    99.981876   \n",
       "\n",
       "                ph     rainfall  \n",
       "count  2200.000000  2200.000000  \n",
       "mean      6.469480   103.463655  \n",
       "std       0.773938    54.958389  \n",
       "min       3.504752    20.211267  \n",
       "25%       5.971693    64.551686  \n",
       "50%       6.425045    94.867624  \n",
       "75%       6.923643   124.267508  \n",
       "max       9.935091   298.560117  "
      ]
     },
     "execution_count": 13,
     "metadata": {},
     "output_type": "execute_result"
    }
   ],
   "source": [
    "df.describe()"
   ]
  },
  {
   "cell_type": "markdown",
   "id": "14467f33-1d15-4bd4-acfa-4b8cb2d43eb4",
   "metadata": {},
   "source": [
    "## Data Visualization"
   ]
  },
  {
   "cell_type": "code",
   "execution_count": 14,
   "id": "93156c5d-b755-4cde-9cdb-506506f4c3b2",
   "metadata": {},
   "outputs": [
    {
     "data": {
      "image/png": "[encoded data removed]",
      "text/plain": [
       "<Figure size 1200x600 with 1 Axes>"
      ]
     },
     "metadata": {},
     "output_type": "display_data"
    }
   ],
   "source": [
    "plt.figure(figsize=(12, 6))\n",
    "sns.countplot(y='label', data=df, order=df['label'].value_counts().index)\n",
    "plt.title('Distribution of Crops')\n",
    "plt.show()"
   ]
  },
  {
   "cell_type": "code",
   "execution_count": 39,
   "id": "dce08938-b079-4f78-a42a-3f452aca7ed8",
   "metadata": {},
   "outputs": [
    {
     "data": {
      "image/png": "[encoded data removed]",
      "text/plain": [
       "<Figure size 1200x1000 with 2 Axes>"
      ]
     },
     "metadata": {},
     "output_type": "display_data"
    }
   ],
   "source": [
    "numeric_df = df.select_dtypes(include=[np.number])\n",
    "plt.figure(figsize=(12, 10))\n",
    "sns.heatmap(numeric_df.corr(), annot=True, cmap='Blues')\n",
    "plt.title('Correlation Heatmap')\n",
    "plt.show()"
   ]
  },
  {
   "cell_type": "markdown",
   "id": "6635e2ee-182f-4b22-855c-76820322bd32",
   "metadata": {},
   "source": [
    "## Creating a **LOGISTIC REGRESSION** model which takes only soil data(N,P,K)\n"
   ]
  },
  {
   "cell_type": "code",
   "execution_count": 16,
   "id": "c9802807-229b-4003-b715-174c8255ff05",
   "metadata": {},
   "outputs": [],
   "source": [
    "from sklearn.model_selection import train_test_split\n",
    "from sklearn.model_selection import cross_val_score"
   ]
  },
  {
   "cell_type": "code",
   "execution_count": 17,
   "id": "16f58283-d1a5-4a90-9d35-4384d6ece83c",
   "metadata": {},
   "outputs": [],
   "source": [
    "features_1 = df[['N', 'P','K']]\n",
    "target = df['label']\n",
    "labels = df['label']"
   ]
  },
  {
   "cell_type": "code",
   "execution_count": 18,
   "id": "704ab6b5-e920-4c09-a0d3-95ef0b815baf",
   "metadata": {},
   "outputs": [],
   "source": [
    "Xtrain_1, Xtest_1, Ytrain_1, Ytest_1 = train_test_split(features_1,target,test_size = 0.2,random_state =2)"
   ]
  },
  {
   "cell_type": "code",
   "execution_count": 19,
   "id": "66a32de4-4881-4fd4-a4c0-8dc11b52b4e4",
   "metadata": {},
   "outputs": [
    {
     "data": {
      "text/plain": [
       "array(['coffee', 'apple', 'pomegranate', 'cotton', 'mothbeans', 'rice',\n",
       "       'watermelon', 'coconut', 'kidneybeans', 'papaya', 'chickpea',\n",
       "       'banana', 'chickpea', 'blackgram', 'apple', 'maize', 'maize',\n",
       "       'pigeonpeas', 'cotton', 'blackgram', 'banana', 'kidneybeans',\n",
       "       'muskmelon', 'banana', 'chickpea', 'lentil', 'pomegranate',\n",
       "       'pomegranate', 'rice', 'blackgram', 'pomegranate', 'chickpea',\n",
       "       'mothbeans', 'blackgram', 'blackgram', 'coffee', 'maize',\n",
       "       'muskmelon', 'mothbeans', 'lentil', 'chickpea', 'pomegranate',\n",
       "       'coconut', 'rice', 'mothbeans', 'chickpea', 'apple', 'mothbeans',\n",
       "       'coffee', 'coconut', 'coffee', 'blackgram', 'cotton', 'blackgram',\n",
       "       'maize', 'lentil', 'mothbeans', 'banana', 'pigeonpeas', 'lentil',\n",
       "       'rice', 'rice', 'pigeonpeas', 'grapes', 'lentil', 'grapes',\n",
       "       'grapes', 'pomegranate', 'coffee', 'maize', 'grapes', 'maize',\n",
       "       'chickpea', 'chickpea', 'banana', 'maize', 'banana', 'rice',\n",
       "       'grapes', 'mothbeans', 'pomegranate', 'banana', 'coffee',\n",
       "       'pigeonpeas', 'banana', 'muskmelon', 'maize', 'maize', 'maize',\n",
       "       'apple', 'jute', 'maize', 'papaya', 'blackgram', 'rice',\n",
       "       'watermelon', 'banana', 'maize', 'blackgram', 'blackgram',\n",
       "       'watermelon', 'grapes', 'watermelon', 'coffee', 'banana', 'rice',\n",
       "       'maize', 'coconut', 'blackgram', 'rice', 'banana', 'chickpea',\n",
       "       'banana', 'papaya', 'apple', 'blackgram', 'chickpea', 'mothbeans',\n",
       "       'coconut', 'banana', 'rice', 'maize', 'mothbeans', 'watermelon',\n",
       "       'cotton', 'watermelon', 'papaya', 'coffee', 'rice', 'kidneybeans',\n",
       "       'coffee', 'watermelon', 'banana', 'cotton', 'chickpea', 'coffee',\n",
       "       'coffee', 'blackgram', 'maize', 'mungbean', 'mothbeans', 'coconut',\n",
       "       'apple', 'pomegranate', 'papaya', 'muskmelon', 'rice', 'mothbeans',\n",
       "       'cotton', 'cotton', 'cotton', 'cotton', 'apple', 'pigeonpeas',\n",
       "       'pomegranate', 'papaya', 'lentil', 'banana', 'maize', 'coffee',\n",
       "       'chickpea', 'pigeonpeas', 'watermelon', 'chickpea', 'jute', 'rice',\n",
       "       'mothbeans', 'papaya', 'watermelon', 'grapes', 'coconut',\n",
       "       'kidneybeans', 'chickpea', 'watermelon', 'mothbeans', 'pigeonpeas',\n",
       "       'mothbeans', 'papaya', 'apple', 'papaya', 'rice', 'kidneybeans',\n",
       "       'coffee', 'muskmelon', 'banana', 'grapes', 'rice', 'watermelon',\n",
       "       'banana', 'papaya', 'apple', 'pigeonpeas', 'papaya', 'mothbeans',\n",
       "       'chickpea', 'muskmelon', 'grapes', 'pomegranate', 'blackgram',\n",
       "       'pigeonpeas', 'coconut', 'rice', 'grapes', 'mothbeans',\n",
       "       'watermelon', 'pomegranate', 'watermelon', 'maize', 'kidneybeans',\n",
       "       'watermelon', 'apple', 'rice', 'chickpea', 'muskmelon', 'banana',\n",
       "       'blackgram', 'chickpea', 'coconut', 'apple', 'maize', 'coffee',\n",
       "       'mothbeans', 'apple', 'kidneybeans', 'watermelon', 'coffee',\n",
       "       'blackgram', 'blackgram', 'maize', 'lentil', 'watermelon',\n",
       "       'grapes', 'chickpea', 'papaya', 'rice', 'cotton', 'cotton',\n",
       "       'mothbeans', 'coffee', 'papaya', 'banana', 'kidneybeans',\n",
       "       'kidneybeans', 'muskmelon', 'chickpea', 'pigeonpeas', 'watermelon',\n",
       "       'maize', 'grapes', 'lentil', 'lentil', 'rice', 'blackgram',\n",
       "       'pigeonpeas', 'banana', 'kidneybeans', 'watermelon', 'mothbeans',\n",
       "       'cotton', 'pigeonpeas', 'pomegranate', 'pigeonpeas', 'chickpea',\n",
       "       'pomegranate', 'watermelon', 'blackgram', 'coffee', 'grapes',\n",
       "       'grapes', 'maize', 'banana', 'rice', 'cotton', 'coconut', 'rice',\n",
       "       'cotton', 'mothbeans', 'watermelon', 'kidneybeans', 'coffee',\n",
       "       'banana', 'lentil', 'pomegranate', 'maize', 'kidneybeans',\n",
       "       'kidneybeans', 'blackgram', 'blackgram', 'mothbeans', 'coconut',\n",
       "       'rice', 'mungbean', 'rice', 'pigeonpeas', 'watermelon', 'coffee',\n",
       "       'coconut', 'kidneybeans', 'banana', 'apple', 'coconut',\n",
       "       'kidneybeans', 'chickpea', 'coconut', 'papaya', 'maize', 'apple',\n",
       "       'rice', 'kidneybeans', 'watermelon', 'watermelon', 'kidneybeans',\n",
       "       'papaya', 'maize', 'blackgram', 'maize', 'papaya', 'maize',\n",
       "       'chickpea', 'pomegranate', 'grapes', 'apple', 'cotton', 'cotton',\n",
       "       'papaya', 'papaya', 'mothbeans', 'watermelon', 'pigeonpeas',\n",
       "       'coffee', 'papaya', 'grapes', 'rice', 'watermelon', 'mothbeans',\n",
       "       'rice', 'mothbeans', 'coffee', 'cotton', 'maize', 'apple',\n",
       "       'papaya', 'rice', 'lentil', 'coconut', 'apple', 'muskmelon',\n",
       "       'lentil', 'chickpea', 'blackgram', 'banana', 'chickpea', 'rice',\n",
       "       'mothbeans', 'chickpea', 'pomegranate', 'rice', 'grapes',\n",
       "       'mothbeans', 'mungbean', 'mungbean', 'mothbeans', 'rice', 'maize',\n",
       "       'pigeonpeas', 'maize', 'watermelon', 'pomegranate', 'pomegranate',\n",
       "       'grapes', 'apple', 'mothbeans', 'coffee', 'muskmelon', 'coconut',\n",
       "       'maize', 'chickpea', 'coconut', 'rice', 'kidneybeans', 'apple',\n",
       "       'cotton', 'watermelon', 'chickpea', 'kidneybeans', 'grapes',\n",
       "       'coffee', 'pigeonpeas', 'apple', 'blackgram', 'muskmelon', 'rice',\n",
       "       'mothbeans', 'blackgram', 'chickpea', 'jute', 'chickpea',\n",
       "       'chickpea', 'banana', 'coconut', 'coffee', 'rice', 'pomegranate',\n",
       "       'watermelon', 'blackgram', 'kidneybeans', 'blackgram', 'lentil',\n",
       "       'mothbeans', 'coffee', 'papaya', 'rice', 'grapes', 'blackgram',\n",
       "       'kidneybeans', 'maize', 'maize', 'jute', 'mothbeans', 'papaya',\n",
       "       'coffee', 'coffee', 'mango', 'muskmelon', 'mothbeans',\n",
       "       'pigeonpeas', 'pomegranate', 'maize', 'rice', 'papaya', 'rice',\n",
       "       'grapes', 'apple', 'coconut', 'apple', 'mungbean', 'muskmelon',\n",
       "       'kidneybeans', 'mothbeans', 'rice'], dtype=object)"
      ]
     },
     "execution_count": 19,
     "metadata": {},
     "output_type": "execute_result"
    }
   ],
   "source": [
    "from sklearn.linear_model import LogisticRegression\n",
    "\n",
    "LogReg_1 = LogisticRegression(random_state=2)\n",
    "\n",
    "LogReg_1.fit(Xtrain_1,Ytrain_1)\n",
    "\n",
    "predicted_values_1 = LogReg_1.predict(Xtest_1)\n",
    "predicted_values_1"
   ]
  },
  {
   "cell_type": "code",
   "execution_count": 20,
   "id": "a335ce01-da25-4c0b-9267-f4a9a8841b49",
   "metadata": {},
   "outputs": [
    {
     "name": "stdout",
     "output_type": "stream",
     "text": [
      "Logistic Regression's Accuracy is:  0.44545454545454544\n",
      "              precision    recall  f1-score   support\n",
      "\n",
      "       apple       0.27      0.46      0.34        13\n",
      "      banana       0.68      1.00      0.81        17\n",
      "   blackgram       0.25      0.44      0.32        16\n",
      "    chickpea       0.63      0.90      0.75        21\n",
      "     coconut       0.21      0.19      0.20        21\n",
      "      coffee       0.78      0.95      0.86        22\n",
      "      cotton       1.00      0.90      0.95        20\n",
      "      grapes       0.57      0.67      0.62        18\n",
      "        jute       0.50      0.07      0.12        28\n",
      " kidneybeans       0.09      0.14      0.11        14\n",
      "      lentil       0.46      0.26      0.33        23\n",
      "       maize       0.64      1.00      0.78        21\n",
      "       mango       0.00      0.00      0.00        26\n",
      "   mothbeans       0.30      0.53      0.38        19\n",
      "    mungbean       0.00      0.00      0.00        24\n",
      "   muskmelon       0.38      0.22      0.28        23\n",
      "      orange       0.00      0.00      0.00        29\n",
      "      papaya       0.70      0.84      0.76        19\n",
      "  pigeonpeas       0.28      0.28      0.28        18\n",
      " pomegranate       0.35      0.41      0.38        17\n",
      "        rice       0.24      0.56      0.34        16\n",
      "  watermelon       0.32      0.60      0.42        15\n",
      "\n",
      "    accuracy                           0.45       440\n",
      "   macro avg       0.39      0.47      0.41       440\n",
      "weighted avg       0.39      0.45      0.39       440\n",
      "\n"
     ]
    }
   ],
   "source": [
    "x_1 = metrics.accuracy_score(Ytest_1, predicted_values_1)\n",
    "print(\"Logistic Regression's Accuracy is: \", x_1)\n",
    "\n",
    "print(classification_report(Ytest_1,predicted_values_1))"
   ]
  },
  {
   "cell_type": "code",
   "execution_count": 21,
   "id": "04d4699e-f0e3-4aea-bd26-4202f089a64e",
   "metadata": {},
   "outputs": [
    {
     "data": {
      "text/plain": [
       "array([0.50227273, 0.51590909, 0.48409091, 0.5       , 0.49090909])"
      ]
     },
     "execution_count": 21,
     "metadata": {},
     "output_type": "execute_result"
    }
   ],
   "source": [
    "score_1 = cross_val_score(LogReg_1,features_1,target,cv=5)\n",
    "score_1"
   ]
  },
  {
   "cell_type": "markdown",
   "id": "d6e9caa9-3bc9-4c30-aa44-15147f6a450e",
   "metadata": {},
   "source": [
    "## Creating a model which contains soil data, temperature, ph, humidity"
   ]
  },
  {
   "cell_type": "code",
   "execution_count": 22,
   "id": "1c6658a4-084f-4d5d-8bdb-429a4540d5e1",
   "metadata": {},
   "outputs": [],
   "source": [
    "features_2 = df[['N', 'P','K','temperature', 'humidity', 'ph']]\n",
    "target = df['label']\n",
    "labels = df['label']"
   ]
  },
  {
   "cell_type": "code",
   "execution_count": 23,
   "id": "a9b26332-d7d3-4fe2-bb6e-acfd80994f7a",
   "metadata": {},
   "outputs": [],
   "source": [
    "Xtrain_2, Xtest_2, Ytrain_2, Ytest_2 = train_test_split(features_2,target,test_size = 0.2,random_state =2)"
   ]
  },
  {
   "cell_type": "code",
   "execution_count": 24,
   "id": "8d8af70b-6cf6-47b5-948b-267c883d9184",
   "metadata": {},
   "outputs": [
    {
     "name": "stdout",
     "output_type": "stream",
     "text": [
      "Logistic Regression's Accuracy is:  0.8886363636363637\n",
      "              precision    recall  f1-score   support\n",
      "\n",
      "       apple       1.00      1.00      1.00        13\n",
      "      banana       1.00      1.00      1.00        17\n",
      "   blackgram       0.59      0.62      0.61        16\n",
      "    chickpea       1.00      1.00      1.00        21\n",
      "     coconut       1.00      1.00      1.00        21\n",
      "      coffee       1.00      1.00      1.00        22\n",
      "      cotton       0.95      1.00      0.98        20\n",
      "      grapes       1.00      1.00      1.00        18\n",
      "        jute       0.78      0.50      0.61        28\n",
      " kidneybeans       1.00      1.00      1.00        14\n",
      "      lentil       0.81      0.74      0.77        23\n",
      "       maize       0.95      0.95      0.95        21\n",
      "       mango       1.00      1.00      1.00        26\n",
      "   mothbeans       0.70      0.84      0.76        19\n",
      "    mungbean       1.00      1.00      1.00        24\n",
      "   muskmelon       0.86      0.78      0.82        23\n",
      "      orange       1.00      1.00      1.00        29\n",
      "      papaya       1.00      1.00      1.00        19\n",
      "  pigeonpeas       0.80      0.67      0.73        18\n",
      " pomegranate       1.00      1.00      1.00        17\n",
      "        rice       0.44      0.69      0.54        16\n",
      "  watermelon       0.71      0.80      0.75        15\n",
      "\n",
      "    accuracy                           0.89       440\n",
      "   macro avg       0.89      0.89      0.89       440\n",
      "weighted avg       0.90      0.89      0.89       440\n",
      "\n"
     ]
    }
   ],
   "source": [
    "from sklearn.linear_model import LogisticRegression\n",
    "\n",
    "LogReg_2 = LogisticRegression(random_state=2)\n",
    "\n",
    "LogReg_2.fit(Xtrain_2,Ytrain_2)\n",
    "\n",
    "predicted_values_2 = LogReg_2.predict(Xtest_2)\n",
    "\n",
    "x_2 = metrics.accuracy_score(Ytest_2, predicted_values_2)\n",
    "print(\"Logistic Regression's Accuracy is: \", x_2)\n",
    "\n",
    "print(classification_report(Ytest_2,predicted_values_2))"
   ]
  },
  {
   "cell_type": "code",
   "execution_count": 25,
   "id": "eb7f1f6f-d78b-4271-adac-6493ff43fec9",
   "metadata": {},
   "outputs": [
    {
     "data": {
      "text/plain": [
       "array([0.88181818, 0.87954545, 0.90454545, 0.89318182, 0.87727273])"
      ]
     },
     "execution_count": 25,
     "metadata": {},
     "output_type": "execute_result"
    }
   ],
   "source": [
    "score_2 = cross_val_score(LogReg_2,features_2,target,cv=5)\n",
    "score_2"
   ]
  },
  {
   "cell_type": "markdown",
   "id": "31973593-79ec-46c9-a448-e57668ea8689",
   "metadata": {},
   "source": [
    "## Building a model which contains all the data including rainfall"
   ]
  },
  {
   "cell_type": "code",
   "execution_count": 26,
   "id": "b6e3f629-6a16-4041-9fc5-4280a7cb7c9a",
   "metadata": {},
   "outputs": [],
   "source": [
    "features = df[['N', 'P','K','temperature', 'humidity', 'ph', 'rainfall']]\n",
    "target = df['label']\n",
    "labels = df['label']"
   ]
  },
  {
   "cell_type": "code",
   "execution_count": 27,
   "id": "e2fbd44c-2f7a-4f73-8c3f-989f5c5597b4",
   "metadata": {},
   "outputs": [],
   "source": [
    "Xtrain, Xtest, Ytrain, Ytest = train_test_split(features,target,test_size = 0.2,random_state =2)"
   ]
  },
  {
   "cell_type": "markdown",
   "id": "b4de40c3-707b-44a9-b0c4-e8bacc70b6a6",
   "metadata": {},
   "source": [
    "## Logistic Regression"
   ]
  },
  {
   "cell_type": "code",
   "execution_count": 28,
   "id": "670a83d3-18eb-4ea5-bbb0-26c0a248a383",
   "metadata": {},
   "outputs": [
    {
     "data": {
      "text/plain": [
       "array(['coffee', 'pomegranate', 'pomegranate', 'cotton', 'mungbean',\n",
       "       'coffee', 'watermelon', 'coconut', 'pigeonpeas', 'mango',\n",
       "       'chickpea', 'jute', 'papaya', 'blackgram', 'mango', 'maize',\n",
       "       'orange', 'blackgram', 'cotton', 'orange', 'banana', 'kidneybeans',\n",
       "       'muskmelon', 'banana', 'mango', 'kidneybeans', 'coconut',\n",
       "       'coconut', 'rice', 'mungbean', 'pomegranate', 'chickpea',\n",
       "       'mungbean', 'mungbean', 'mothbeans', 'coffee', 'maize',\n",
       "       'muskmelon', 'mothbeans', 'blackgram', 'papaya', 'pomegranate',\n",
       "       'pomegranate', 'jute', 'mothbeans', 'pomegranate', 'pomegranate',\n",
       "       'lentil', 'coffee', 'chickpea', 'coffee', 'blackgram', 'cotton',\n",
       "       'pigeonpeas', 'maize', 'lentil', 'mungbean', 'banana', 'lentil',\n",
       "       'orange', 'rice', 'jute', 'pigeonpeas', 'grapes', 'pigeonpeas',\n",
       "       'grapes', 'grapes', 'pomegranate', 'coffee', 'maize', 'apple',\n",
       "       'orange', 'chickpea', 'mango', 'banana', 'maize', 'banana', 'jute',\n",
       "       'pomegranate', 'mungbean', 'mango', 'banana', 'rice', 'blackgram',\n",
       "       'banana', 'muskmelon', 'orange', 'maize', 'cotton', 'coconut',\n",
       "       'rice', 'orange', 'mango', 'orange', 'orange', 'muskmelon',\n",
       "       'banana', 'maize', 'lentil', 'blackgram', 'muskmelon', 'apple',\n",
       "       'muskmelon', 'coffee', 'mungbean', 'jute', 'maize', 'pomegranate',\n",
       "       'lentil', 'orange', 'banana', 'chickpea', 'banana', 'coconut',\n",
       "       'apple', 'kidneybeans', 'chickpea', 'mothbeans', 'mango', 'banana',\n",
       "       'jute', 'rice', 'mungbean', 'watermelon', 'cotton', 'muskmelon',\n",
       "       'papaya', 'orange', 'orange', 'mungbean', 'coffee', 'muskmelon',\n",
       "       'jute', 'cotton', 'chickpea', 'coffee', 'coffee', 'lentil',\n",
       "       'maize', 'mothbeans', 'blackgram', 'coconut', 'apple', 'mango',\n",
       "       'mango', 'orange', 'rice', 'pigeonpeas', 'cotton', 'cotton',\n",
       "       'cotton', 'cotton', 'coconut', 'lentil', 'grapes', 'papaya',\n",
       "       'pigeonpeas', 'jute', 'orange', 'coffee', 'chickpea', 'mungbean',\n",
       "       'muskmelon', 'coconut', 'jute', 'rice', 'mungbean', 'mango',\n",
       "       'muskmelon', 'grapes', 'orange', 'pigeonpeas', 'chickpea',\n",
       "       'watermelon', 'kidneybeans', 'pigeonpeas', 'kidneybeans', 'papaya',\n",
       "       'grapes', 'mango', 'jute', 'mungbean', 'orange', 'watermelon',\n",
       "       'banana', 'grapes', 'jute', 'muskmelon', 'rice', 'papaya',\n",
       "       'grapes', 'pigeonpeas', 'papaya', 'lentil', 'mango', 'watermelon',\n",
       "       'apple', 'coconut', 'blackgram', 'mungbean', 'pomegranate', 'jute',\n",
       "       'apple', 'mothbeans', 'muskmelon', 'coconut', 'watermelon',\n",
       "       'cotton', 'kidneybeans', 'watermelon', 'apple', 'rice', 'chickpea',\n",
       "       'watermelon', 'banana', 'mungbean', 'coconut', 'pomegranate',\n",
       "       'apple', 'maize', 'coffee', 'mungbean', 'mango', 'pigeonpeas',\n",
       "       'watermelon', 'orange', 'kidneybeans', 'blackgram', 'cotton',\n",
       "       'lentil', 'watermelon', 'grapes', 'chickpea', 'papaya', 'jute',\n",
       "       'cotton', 'cotton', 'mothbeans', 'coffee', 'papaya', 'banana',\n",
       "       'mungbean', 'lentil', 'muskmelon', 'mango', 'pigeonpeas',\n",
       "       'muskmelon', 'maize', 'apple', 'lentil', 'lentil', 'rice',\n",
       "       'blackgram', 'mothbeans', 'jute', 'lentil', 'muskmelon',\n",
       "       'pigeonpeas', 'cotton', 'mothbeans', 'pomegranate', 'kidneybeans',\n",
       "       'chickpea', 'pomegranate', 'muskmelon', 'pigeonpeas', 'coffee',\n",
       "       'grapes', 'grapes', 'blackgram', 'banana', 'orange', 'cotton',\n",
       "       'coconut', 'mango', 'cotton', 'orange', 'watermelon', 'mothbeans',\n",
       "       'orange', 'banana', 'kidneybeans', 'coconut', 'maize', 'blackgram',\n",
       "       'mungbean', 'blackgram', 'pigeonpeas', 'mungbean', 'mango', 'jute',\n",
       "       'mothbeans', 'rice', 'pigeonpeas', 'muskmelon', 'coffee', 'mango',\n",
       "       'mothbeans', 'banana', 'grapes', 'pomegranate', 'orange',\n",
       "       'chickpea', 'chickpea', 'papaya', 'maize', 'orange', 'jute',\n",
       "       'lentil', 'muskmelon', 'muskmelon', 'lentil', 'mango', 'orange',\n",
       "       'lentil', 'maize', 'papaya', 'orange', 'chickpea', 'pomegranate',\n",
       "       'grapes', 'pomegranate', 'cotton', 'cotton', 'papaya', 'mango',\n",
       "       'mothbeans', 'muskmelon', 'kidneybeans', 'coffee', 'papaya',\n",
       "       'grapes', 'jute', 'muskmelon', 'mungbean', 'jute', 'pigeonpeas',\n",
       "       'coffee', 'cotton', 'orange', 'grapes', 'papaya', 'jute', 'lentil',\n",
       "       'mango', 'apple', 'watermelon', 'lentil', 'chickpea', 'lentil',\n",
       "       'orange', 'chickpea', 'jute', 'mungbean', 'chickpea', 'coconut',\n",
       "       'jute', 'grapes', 'mothbeans', 'mothbeans', 'orange', 'mungbean',\n",
       "       'jute', 'maize', 'mungbean', 'maize', 'watermelon', 'coconut',\n",
       "       'coconut', 'apple', 'grapes', 'mothbeans', 'coffee', 'orange',\n",
       "       'mango', 'maize', 'chickpea', 'coconut', 'jute', 'lentil', 'mango',\n",
       "       'cotton', 'muskmelon', 'chickpea', 'pigeonpeas', 'mango', 'coffee',\n",
       "       'kidneybeans', 'mango', 'blackgram', 'watermelon', 'rice',\n",
       "       'mothbeans', 'lentil', 'papaya', 'rice', 'chickpea', 'coconut',\n",
       "       'jute', 'mango', 'coffee', 'jute', 'coconut', 'coconut', 'lentil',\n",
       "       'mothbeans', 'lentil', 'lentil', 'lentil', 'coffee', 'papaya',\n",
       "       'jute', 'grapes', 'kidneybeans', 'pigeonpeas', 'maize', 'maize',\n",
       "       'jute', 'mungbean', 'papaya', 'jute', 'coffee', 'orange',\n",
       "       'watermelon', 'mothbeans', 'kidneybeans', 'coconut', 'maize',\n",
       "       'jute', 'papaya', 'jute', 'apple', 'mango', 'mango', 'apple',\n",
       "       'orange', 'muskmelon', 'lentil', 'kidneybeans', 'jute'],\n",
       "      dtype=object)"
      ]
     },
     "execution_count": 28,
     "metadata": {},
     "output_type": "execute_result"
    }
   ],
   "source": [
    "from sklearn.linear_model import LogisticRegression\n",
    "\n",
    "LogReg = LogisticRegression(random_state=2)\n",
    "\n",
    "LogReg.fit(Xtrain,Ytrain)\n",
    "\n",
    "predicted_values = LogReg.predict(Xtest)\n",
    "\n",
    "predicted_values\n"
   ]
  },
  {
   "cell_type": "code",
   "execution_count": 29,
   "id": "055addb4-73bf-4ca8-8853-7ec150193f3f",
   "metadata": {},
   "outputs": [
    {
     "data": {
      "image/png": "[encoded data removed]",
      "text/plain": [
       "<Figure size 640x480 with 2 Axes>"
      ]
     },
     "metadata": {},
     "output_type": "display_data"
    }
   ],
   "source": [
    "# Import necessary libraries\n",
    "from sklearn.metrics import confusion_matrix, ConfusionMatrixDisplay\n",
    "\n",
    "cm = confusion_matrix(Ytest, predicted_values )  \n",
    "# Display the confusion matrix\n",
    "disp = ConfusionMatrixDisplay(confusion_matrix=cm, display_labels=np.unique(Ytest))\n",
    "disp.plot(cmap=plt.cm.Blues, xticks_rotation='vertical', values_format='d')\n",
    "plt.title(\"Confusion Matrix\")\n",
    "plt.show()\n"
   ]
  },
  {
   "cell_type": "code",
   "execution_count": 30,
   "id": "ef9fe716-3060-4083-9d3b-4d85fc9769cf",
   "metadata": {},
   "outputs": [
    {
     "name": "stdout",
     "output_type": "stream",
     "text": [
      "Logistic Regression's Accuracy is:  0.9522727272727273\n"
     ]
    }
   ],
   "source": [
    "x = metrics.accuracy_score(Ytest, predicted_values)\n",
    "\n",
    "print(\"Logistic Regression's Accuracy is: \", x)\n"
   ]
  },
  {
   "cell_type": "code",
   "execution_count": 31,
   "id": "39d303d7-ba99-4de0-83d1-97b949fae360",
   "metadata": {},
   "outputs": [
    {
     "name": "stdout",
     "output_type": "stream",
     "text": [
      "              precision    recall  f1-score   support\n",
      "\n",
      "       apple       1.00      1.00      1.00        13\n",
      "      banana       1.00      1.00      1.00        17\n",
      "   blackgram       0.86      0.75      0.80        16\n",
      "    chickpea       1.00      1.00      1.00        21\n",
      "     coconut       1.00      1.00      1.00        21\n",
      "      coffee       1.00      1.00      1.00        22\n",
      "      cotton       0.86      0.90      0.88        20\n",
      "      grapes       1.00      1.00      1.00        18\n",
      "        jute       0.84      0.93      0.88        28\n",
      " kidneybeans       1.00      1.00      1.00        14\n",
      "      lentil       0.88      1.00      0.94        23\n",
      "       maize       0.90      0.86      0.88        21\n",
      "       mango       0.96      1.00      0.98        26\n",
      "   mothbeans       0.84      0.84      0.84        19\n",
      "    mungbean       1.00      0.96      0.98        24\n",
      "   muskmelon       1.00      1.00      1.00        23\n",
      "      orange       1.00      1.00      1.00        29\n",
      "      papaya       1.00      0.95      0.97        19\n",
      "  pigeonpeas       1.00      1.00      1.00        18\n",
      " pomegranate       1.00      1.00      1.00        17\n",
      "        rice       0.85      0.69      0.76        16\n",
      "  watermelon       1.00      1.00      1.00        15\n",
      "\n",
      "    accuracy                           0.95       440\n",
      "   macro avg       0.95      0.95      0.95       440\n",
      "weighted avg       0.95      0.95      0.95       440\n",
      "\n"
     ]
    }
   ],
   "source": [
    "print(classification_report(Ytest,predicted_values))"
   ]
  },
  {
   "cell_type": "code",
   "execution_count": 32,
   "id": "13ee5670-eba3-4e6e-9a94-aff45e133df9",
   "metadata": {},
   "outputs": [
    {
     "data": {
      "text/plain": [
       "array([0.95      , 0.96590909, 0.94772727, 0.96590909, 0.94318182])"
      ]
     },
     "execution_count": 32,
     "metadata": {},
     "output_type": "execute_result"
    }
   ],
   "source": [
    "score = cross_val_score(LogReg,features,target,cv=5)\n",
    "score"
   ]
  },
  {
   "cell_type": "markdown",
   "id": "3cdc0936-40b7-4ff1-b706-09da171388d7",
   "metadata": {},
   "source": [
    "## Making the prediction"
   ]
  },
  {
   "cell_type": "code",
   "execution_count": 33,
   "id": "768fc002-fb77-40e9-a006-dc2fe7df94a3",
   "metadata": {},
   "outputs": [
    {
     "name": "stdout",
     "output_type": "stream",
     "text": [
      "['coffee']\n"
     ]
    }
   ],
   "source": [
    "data = np.array([[104,18, 30, 23.603016, 60.3, 6.7, 140.91]])\n",
    "prediction = LogReg.predict(data)\n",
    "print(prediction)"
   ]
  },
  {
   "cell_type": "code",
   "execution_count": 34,
   "id": "df59a501-8319-4d10-89a8-1897fb7a4e1b",
   "metadata": {},
   "outputs": [
    {
     "name": "stdout",
     "output_type": "stream",
     "text": [
      "['jute']\n"
     ]
    }
   ],
   "source": [
    "data = np.array([[83, 45, 60, 28, 70.3, 7.0, 150.9]])\n",
    "prediction = LogReg.predict(data)\n",
    "print(prediction)"
   ]
  },
  {
   "cell_type": "code",
   "execution_count": 35,
   "id": "05074f2c-a280-4b6f-945d-1ee7facf7dce",
   "metadata": {},
   "outputs": [
    {
     "name": "stdout",
     "output_type": "stream",
     "text": [
      "['rice']\n"
     ]
    }
   ],
   "source": [
    "data = np.array([[90,42,43,20.87,82.002,6.502,202.9]])\n",
    "prediction = LogReg.predict(data)\n",
    "print(prediction)"
   ]
  },
  {
   "cell_type": "code",
   "execution_count": 36,
   "id": "c7aa53dc-1b74-488d-af97-761e7820bc2a",
   "metadata": {},
   "outputs": [
    {
     "name": "stdout",
     "output_type": "stream",
     "text": [
      "['chickpea']\n"
     ]
    }
   ],
   "source": [
    "data = np.array([[35,20,40,20.95,7,12,100.9]])\n",
    "prediction = LogReg.predict(data)\n",
    "print(prediction)"
   ]
  },
  {
   "cell_type": "code",
   "execution_count": null,
   "id": "9ad36584-e1e6-4260-9bc7-7e8f7770cb00",
   "metadata": {},
   "outputs": [],
   "source": []
  }
 ],
 "metadata": {
  "kernelspec": {
   "display_name": "Python 3 (ipykernel)",
   "language": "python",
   "name": "python3"
  },
  "language_info": {
   "codemirror_mode": {
    "name": "ipython",
    "version": 3
   },
   "file_extension": ".py",
   "mimetype": "text/x-python",
   "name": "python",
   "nbconvert_exporter": "python",
   "pygments_lexer": "ipython3",
   "version": "3.11.7"
  }
 },
 "nbformat": 4,
 "nbformat_minor": 5
}
